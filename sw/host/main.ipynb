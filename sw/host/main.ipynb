{
 "cells": [
  {
   "cell_type": "markdown",
   "metadata": {},
   "source": [
    "# Generate configuration file\n",
    "\n",
    "Generate hardware and software configuration files\n",
    "* **Hardware configuration file**: configure the hardware (neurons, synapses, ion channels, monitoring)\n",
    "* **Software configuration file**: configure the C++ application (monitoring, stimulation, control)"
   ]
  },
  {
   "cell_type": "code",
   "execution_count": 2,
   "metadata": {},
   "outputs": [
    {
     "name": "stdout",
     "output_type": "stream",
     "text": [
      "Software configuration file saved at: export/swconfig_singleProva2.json\n",
      "Hardware configuration file saved at: export/hwconfig_singleProva2.txt\n"
     ]
    }
   ],
   "source": [
    "%load_ext autoreload\n",
    "%autoreload 2\n",
    "from configuration.gen_config import gen_config, NetwConfParams\n",
    "\n",
    "# Configuration file \n",
    "CONFIG_NAME = \"singleProva2\"\n",
    "SAVE_PATH   = \"export/\"\n",
    "\n",
    "# Stimulation\n",
    "netw_conf = NetwConfParams()\n",
    "netw_conf.model                     = \"single\" # \"custom\", \"single\", \"connectoid\"\n",
    "netw_conf.emulation_time_s          = 5\n",
    "netw_conf.en_step_stim              = False\n",
    "netw_conf.step_stim_delay_ms        = 0\n",
    "netw_conf.step_stim_duration_ms     = 0\n",
    "netw_conf.local_save_path           = \"/home/ubuntu/bioemus/data/\"\n",
    "netw_conf.en_randomize_hh_params    = True\n",
    "netw_conf.val_randomize_hh_params   = 0.10\n",
    "netw_conf.org_wsyninh               = 1.0\n",
    "netw_conf.org_wsynexc               = 0.22\n",
    "netw_conf.org_pcon_in               = 0.08\n",
    "netw_conf.org_pcon_out              = 0.02\n",
    "netw_conf.org_wsyn_in               = 1.0\n",
    "netw_conf.org_wsyn_out              = 1.0\n",
    "netw_conf.org_inh_ratio             = 0.2\n",
    "\n",
    "\n",
    "[hwconfig, swconfig] = gen_config(CONFIG_NAME, netw_conf, SAVE_PATH)"
   ]
  },
  {
   "cell_type": "markdown",
   "metadata": {},
   "source": [
    "# Emulate configuration\n",
    "\n",
    "* Emulate using the configuration files generated"
   ]
  },
  {
   "cell_type": "code",
   "execution_count": 1,
   "metadata": {},
   "outputs": [
    {
     "ename": "NameError",
     "evalue": "name 'hwconfig' is not defined",
     "output_type": "error",
     "traceback": [
      "\u001b[0;31m---------------------------------------------------------------------------\u001b[0m",
      "\u001b[0;31mNameError\u001b[0m                                 Traceback (most recent call last)",
      "Cell \u001b[0;32mIn[1], line 8\u001b[0m\n\u001b[1;32m      5\u001b[0m FPGA_EMU      \u001b[38;5;241m=\u001b[39m \u001b[38;5;28;01mFalse\u001b[39;00m\n\u001b[1;32m      6\u001b[0m STORE_CONTEXT \u001b[38;5;241m=\u001b[39m \u001b[38;5;28;01mFalse\u001b[39;00m\n\u001b[0;32m----> 8\u001b[0m exact_emu \u001b[38;5;241m=\u001b[39m emulate_config(\u001b[43mhwconfig\u001b[49m, swconfig, NEURON_LIST, \u001b[38;5;28;01mFalse\u001b[39;00m, STORE_CONTEXT, dtype\u001b[38;5;241m=\u001b[39mnp\u001b[38;5;241m.\u001b[39mfloat64)\n\u001b[1;32m     10\u001b[0m \u001b[38;5;28;01mif\u001b[39;00m FPGA_EMU:\n\u001b[1;32m     11\u001b[0m     fpga_emu \u001b[38;5;241m=\u001b[39m emulate_config(hwconfig, swconfig, NEURON_LIST, \u001b[38;5;28;01mTrue\u001b[39;00m,  STORE_CONTEXT, dtype\u001b[38;5;241m=\u001b[39mnp\u001b[38;5;241m.\u001b[39mfloat32)\n",
      "\u001b[0;31mNameError\u001b[0m: name 'hwconfig' is not defined"
     ]
    }
   ],
   "source": [
    "import numpy as np\n",
    "from emulation.emulate_config import emulate_config\n",
    "\n",
    "NEURON_LIST   = [i for i in range(4)]\n",
    "FPGA_EMU      = False\n",
    "STORE_CONTEXT = False\n",
    "\n",
    "exact_emu = emulate_config(hwconfig, swconfig, NEURON_LIST, False, STORE_CONTEXT, dtype=np.float64)\n",
    "\n",
    "if FPGA_EMU:\n",
    "    fpga_emu = emulate_config(hwconfig, swconfig, NEURON_LIST, True,  STORE_CONTEXT, dtype=np.float32)"
   ]
  },
  {
   "cell_type": "markdown",
   "metadata": {},
   "source": [
    "* Plot emulation"
   ]
  },
  {
   "cell_type": "code",
   "execution_count": null,
   "metadata": {},
   "outputs": [],
   "source": [
    "%matplotlib qt\n",
    "from emulation.plots.SnnPlotter import *\n",
    "\n",
    "NEURON_TO_DISPLAY       = 0\n",
    "NEURON_LIST_TO_DISPLAY  = [0,1,2,3]\n",
    "\n",
    "exact_plotter = SnnPlotter(exact_emu)\n",
    "# exact_plotter.plotIonRates()\n",
    "# exact_plotter.plotSynRates()\n",
    "# exact_plotter.plotIonChanStates(NEURON_TO_DISPLAY)\n",
    "# exact_plotter.plotCurrents(NEURON_TO_DISPLAY)\n",
    "exact_plotter.plotVmem(NEURON_LIST_TO_DISPLAY, plot_type='all')\n",
    "# exact_plotter.plotVmem(NEURON_LIST_TO_DISPLAY, plot_type='comp')\n",
    "# exact_plotter.plotVmem(NEURON_LIST_TO_DISPLAY, plot_type='subplot')\n",
    "# exact_plotter.plotRaster()"
   ]
  },
  {
   "cell_type": "markdown",
   "metadata": {},
   "source": [
    "# Monitoring\n",
    "\n",
    "* Monitor spikes"
   ]
  },
  {
   "cell_type": "code",
   "execution_count": null,
   "metadata": {},
   "outputs": [],
   "source": [
    "import monitoring.spkmon.main as spike_monitor\n",
    "spike_monitor.main()"
   ]
  },
  {
   "cell_type": "markdown",
   "metadata": {},
   "source": [
    "* Monitor waves"
   ]
  },
  {
   "cell_type": "code",
   "execution_count": null,
   "metadata": {},
   "outputs": [],
   "source": [
    "# Monitor one wave with GUI\n",
    "# import monitoring.vmon.main as vmem_monitor\n",
    "# vmem_monitor.main()\n",
    "\n",
    "# Monitor multiple waves\n",
    "from monitoring.waves.waves_mon import waves_mon\n",
    "\n",
    "TARGET_IP           = \"192.168.137.16\"\n",
    "TARGET_PORT         = \"5558\"\n",
    "NB_CHANNELS         = 16\n",
    "NB_DT_PER_TRANSFER  = 190\n",
    "WINDOW_SIZE_S       = 1\n",
    "REFRESH_TIME_S      = 0.1\n",
    "\n",
    "waves_mon(f\"tcp//{TARGET_IP}:{TARGET_PORT}\", NB_CHANNELS, NB_DT_PER_TRANSFER, WINDOW_SIZE_S, REFRESH_TIME_S)"
   ]
  },
  {
   "cell_type": "markdown",
   "metadata": {},
   "source": [
    "* External stimulation"
   ]
  },
  {
   "cell_type": "code",
   "execution_count": null,
   "metadata": {},
   "outputs": [],
   "source": [
    "import monitoring.ext_stim.main as external_stim\n",
    "external_stim.main()"
   ]
  },
  {
   "cell_type": "markdown",
   "metadata": {},
   "source": [
    "# Analysis\n",
    "\n",
    "* Raster"
   ]
  },
  {
   "cell_type": "code",
   "execution_count": null,
   "metadata": {},
   "outputs": [],
   "source": [
    "%matplotlib qt\n",
    "from analysis.draw_raster import draw_raster\n",
    "from analysis.extract_spikes import extract_spikes\n",
    "from analysis.spike_analysis import spike_analysis\n",
    "from analysis.burst_analysis import burst_analysis\n",
    "\n",
    "DIRPATH        = \"data/\"\n",
    "RASTER_LIST    = [f\"single{i}\" for i in range(1,4+1)]\n",
    "RASTER_LIST    = f\"single5\"\n",
    "REC_DURATION_S = 5\n",
    "SAVE_FIGS      = False\n",
    "\n",
    "draw_raster(DIRPATH, RASTER_LIST, SAVE_FIGS)\n",
    "\n",
    "tstamp_list = extract_spikes(DIRPATH, RASTER_LIST, REC_DURATION_S)\n",
    "spike_analysis(RASTER_LIST, tstamp_list, REC_DURATION_S)\n",
    "burst_analysis(RASTER_LIST, tstamp_list)"
   ]
  },
  {
   "cell_type": "markdown",
   "metadata": {},
   "source": [
    "* Waveforms"
   ]
  },
  {
   "cell_type": "code",
   "execution_count": null,
   "metadata": {},
   "outputs": [],
   "source": [
    "%matplotlib qt\n",
    "from analysis.draw_waves import draw_waves\n",
    "\n",
    "DIRPATH        = \"data/\"\n",
    "WAVE_LIST      = [\"test1\", \"test2\"]\n",
    "PLOT_TIME_S    = 0.1\n",
    "SEL_NRN        = [i for i in range(2)] # up to MAX_NB_NEURONS_WAVES_MON\n",
    "SAVE_FIGS      = False\n",
    "\n",
    "draw_waves(DIRPATH, WAVE_LIST, PLOT_TIME_S, SEL_NRN)\n"
   ]
  }
 ],
 "metadata": {
  "kernelspec": {
   "display_name": "bioemus",
   "language": "python",
   "name": "python3"
  },
  "language_info": {
   "codemirror_mode": {
    "name": "ipython",
    "version": 3
   },
   "file_extension": ".py",
   "mimetype": "text/x-python",
   "name": "python",
   "nbconvert_exporter": "python",
   "pygments_lexer": "ipython3",
   "version": "3.12.0"
  }
 },
 "nbformat": 4,
 "nbformat_minor": 2
}
